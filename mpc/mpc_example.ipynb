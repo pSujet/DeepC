{
 "cells": [
  {
   "cell_type": "code",
   "execution_count": 1,
   "id": "de2eb4b5",
   "metadata": {},
   "outputs": [],
   "source": [
    "import numpy as np\n",
    "import control as ctrl\n",
    "import matplotlib.pyplot as plt\n",
    "import mpc"
   ]
  },
  {
   "cell_type": "markdown",
   "id": "cdf263e3",
   "metadata": {},
   "source": [
    "Define continuous-time dynamics"
   ]
  },
  {
   "cell_type": "code",
   "execution_count": 2,
   "id": "e6da8edb",
   "metadata": {},
   "outputs": [],
   "source": [
    "Ac = np.array([[-1.2822,0,0.98, 0],[0,0,1,0],[-5.4293,0,-1.8366,0],[-128.2, 128.2, 0,0]])\n",
    "Bc = np.array([[-0.3],[0],[-17],[0]])\n",
    "Cc = np.array([[0,1,0,0],[0,0,0,1]])\n",
    "Dc = np.array([[0],[0]])\n",
    "sysc= ctrl.ss(Ac,Bc,Cc,Dc)"
   ]
  },
  {
   "cell_type": "markdown",
   "id": "6c204e83",
   "metadata": {},
   "source": [
    "Sample system to obtain discrete-time representation"
   ]
  },
  {
   "cell_type": "code",
   "execution_count": 4,
   "id": "ced46e4b",
   "metadata": {},
   "outputs": [],
   "source": [
    "h = 0.25\n",
    "sysd = ctrl.c2d(sysc,h)\n",
    "[A,B,C,D] = ctrl.ssdata(sysd)"
   ]
  },
  {
   "cell_type": "markdown",
   "id": "c1a0f252",
   "metadata": {},
   "source": [
    "Define MPC controller"
   ]
  },
  {
   "cell_type": "code",
   "execution_count": 8,
   "id": "f6c7519b",
   "metadata": {},
   "outputs": [],
   "source": [
    "Q = np.eye(4); \n",
    "R = np.array([[10]]);\n",
    "ulim = np.array([[0.262]]); \n",
    "ylim = np.array([[0.349],[1000]]); \n",
    "mpcProblemData={}\n",
    "mpcProblemData['A'] = A; \n",
    "mpcProblemData['B']=B; \n",
    "mpcProblemData['C']=C; \n",
    "mpcProblemData['T'] = 10;\n",
    "mpcProblemData['Q'] = Q;\n",
    "mpcProblemData['R'] = R; \n",
    "mpcProblemData['QT'] = np.zeros((4,4));\n",
    "mpcProblemData['ulim'] = ulim; \n",
    "mpcProblemData['ylim'] = ylim;\n",
    "mpcProblemData['MT'] = np.zeros((4,4)); \n",
    "mpcProblemData['mT'] = np.zeros((4,1))"
   ]
  },
  {
   "cell_type": "markdown",
   "id": "e7c633b6",
   "metadata": {},
   "source": [
    "Now, perform simulation from initial value"
   ]
  },
  {
   "cell_type": "code",
   "execution_count": 5,
   "id": "0ed9e617",
   "metadata": {},
   "outputs": [],
   "source": [
    "x0 = np.array([[0],[0],[0],[10]])\n",
    "Tsim = 5;                           # second\n",
    "Nsim = int(Tsim/h)                  # Number of simulation step\n",
    "x = x0; \n",
    "xLogg = np.empty((4,Nsim+1)); \n",
    "xLogg[:,[0]] = x0; \n",
    "uLogg = np.empty((1,Nsim));\n",
    "for t in range(Nsim):\n",
    "    u = mpc.mpcController(mpcProblemData,x)\n",
    "    x = A@x+B@u\n",
    "    uLogg[:,[t]] = u; \n",
    "    xLogg[:,[t+1]] = x;\n"
   ]
  },
  {
   "cell_type": "code",
   "execution_count": 6,
   "id": "e77cb081",
   "metadata": {},
   "outputs": [
    {
     "data": {
      "image/png": "[encoded data removed]",
      "text/plain": [
       "<Figure size 432x288 with 3 Axes>"
      ]
     },
     "metadata": {
      "needs_background": "light"
     },
     "output_type": "display_data"
    }
   ],
   "source": [
    "time = np.linspace(0,h,Nsim+1);\n",
    "plt.subplot(311)\n",
    "plt.step(time,xLogg[3,:]); \n",
    "plt.ylabel('Altitude'); plt.ylim((-1,11))\n",
    "plt.subplot(312)\n",
    "plt.step(time,xLogg[1,:]); \n",
    "plt.ylabel('Pitch'); plt.ylim((-0.5,0.5))\n",
    "plt.subplot(313)\n",
    "plt.step(time[1:Nsim+1],uLogg[0,:]); plt.ylabel('Elevator angle'); plt.ylim((-0.3,0.3));"
   ]
  },
  {
   "cell_type": "markdown",
   "id": "446f0a4b",
   "metadata": {},
   "source": [
    "Now, modify problem to account for input rate constraints"
   ]
  },
  {
   "cell_type": "code",
   "execution_count": 7,
   "id": "c690d9d2",
   "metadata": {},
   "outputs": [],
   "source": [
    "Ae = np.block([[A,B],[np.zeros((1,4)), np.eye(1)]]);\n",
    "Be = np.block([[B],[np.eye(1)]])\n",
    "Ce = np.block([[C, np.zeros((2,1))],[np.zeros((1,4)), np.eye(1)]])\n",
    "Qe = np.block([ [Q, np.zeros((4,1))], [np.zeros((1,4)), R]]); Re=np.array([[0.01]])\n",
    "ylime = np.block([[ylim],[ulim]]); ulime=np.array([[0.524*h]]);"
   ]
  },
  {
   "cell_type": "code",
   "execution_count": 8,
   "id": "2729ea10",
   "metadata": {},
   "outputs": [],
   "source": [
    "mpcProblemData={}\n",
    "mpcProblemData['A']=Ae; mpcProblemData['B']=Be; mpcProblemData['C']=Ce; mpcProblemData['T']=10;\n",
    "mpcProblemData['Q']=Qe;mpcProblemData['R']=Re; mpcProblemData['QT']=np.zeros((5,5));\n",
    "mpcProblemData['ulim']=ulime; mpcProblemData['ylim']=ylime;\n",
    "mpcProblemData['MT']=np.zeros((5,5)); mpcProblemData['mT']=np.zeros((5,1))"
   ]
  },
  {
   "cell_type": "code",
   "execution_count": 9,
   "id": "f6aa04d2",
   "metadata": {},
   "outputs": [],
   "source": [
    "x0=np.array([[0],[0],[0],[10],[0]])\n",
    "x=x0; \n",
    "xLogg=np.empty((5,Nsim+1)); xLogg[:,[0]]=x0; duLogg=np.empty((1,Nsim));\n",
    "for t in range(Nsim):\n",
    "    du=mpc.mpcController(mpcProblemData,x)\n",
    "    x=Ae@x+Be@du\n",
    "    duLogg[:,[t]]=du; xLogg[:,[t+1]]=x;"
   ]
  },
  {
   "cell_type": "code",
   "execution_count": 10,
   "id": "7374c34b",
   "metadata": {},
   "outputs": [
    {
     "data": {
      "image/png": "[encoded data removed]",
      "text/plain": [
       "<Figure size 432x288 with 3 Axes>"
      ]
     },
     "metadata": {
      "needs_background": "light"
     },
     "output_type": "display_data"
    }
   ],
   "source": [
    "#plt.step(np.linspace(0,h,Tsim),uLogg[0,:])\n",
    "plt.subplot(311)\n",
    "plt.step(time,xLogg[3,:]); \n",
    "plt.ylabel('Altitude'); plt.ylim((-1,11))\n",
    "plt.subplot(312)\n",
    "plt.step(time,xLogg[1,:]); \n",
    "plt.ylabel('Pitch'); plt.ylim((-0.5,0.5))\n",
    "plt.subplot(313)\n",
    "plt.step(time,xLogg[4,:]); plt.ylabel('Elevator angle'); plt.ylim((-0.3,0.3));"
   ]
  },
  {
   "cell_type": "markdown",
   "id": "4d9b2083",
   "metadata": {},
   "source": [
    "Finally, set prediction horizon to T=4"
   ]
  },
  {
   "cell_type": "code",
   "execution_count": 11,
   "id": "dc082545",
   "metadata": {},
   "outputs": [],
   "source": [
    "mpcProblemData['T'] = 4;\n",
    "x0 = np.array([[0],[0],[0],[10],[0]])\n",
    "x = x0; \n",
    "xLogg = np.empty((5,Nsim+1)); \n",
    "xLogg[:,[0]] = x0; \n",
    "duLogg = np.empty((1,Nsim));\n",
    "for t in range(Nsim):\n",
    "    du=mpc.mpcController(mpcProblemData,x)\n",
    "    x=Ae@x+Be@du\n",
    "    duLogg[:,[t]]=du; xLogg[:,[t+1]]=x;"
   ]
  },
  {
   "cell_type": "code",
   "execution_count": 12,
   "id": "f0c08920",
   "metadata": {
    "scrolled": true
   },
   "outputs": [
    {
     "data": {
      "image/png": "[encoded data removed]",
      "text/plain": [
       "<Figure size 432x288 with 3 Axes>"
      ]
     },
     "metadata": {
      "needs_background": "light"
     },
     "output_type": "display_data"
    }
   ],
   "source": [
    "#plt.step(np.linspace(0,h,Tsim),uLogg[0,:])\n",
    "plt.subplot(311)\n",
    "plt.step(time,xLogg[3,:]); \n",
    "plt.ylabel('Altitude'); plt.ylim((-1,11))\n",
    "plt.subplot(312)\n",
    "plt.step(time,xLogg[1,:]); \n",
    "plt.ylabel('Pitch'); plt.ylim((-0.5,0.5))\n",
    "plt.subplot(313)\n",
    "plt.step(time,xLogg[4,:]); plt.ylabel('Elevator angle'); plt.ylim((-0.3,0.3));"
   ]
  },
  {
   "cell_type": "markdown",
   "id": "32b53e46",
   "metadata": {},
   "source": [
    "Now, add terminal penalty based on receding-horizon LQR proof."
   ]
  },
  {
   "cell_type": "code",
   "execution_count": 13,
   "id": "96356025",
   "metadata": {},
   "outputs": [],
   "source": [
    "(K,Pe,E)=ctrl.dlqr(Ae,Be,Qe,Re)\n",
    "mpcProblemData['QT']=Pe"
   ]
  },
  {
   "cell_type": "code",
   "execution_count": 14,
   "id": "b6cc0934",
   "metadata": {},
   "outputs": [],
   "source": [
    "mpcProblemData['T'] = 4;\n",
    "x0 = np.array([[0],[0],[0],[10],[0]])\n",
    "x = x0; \n",
    "xLogg = np.empty((5,Nsim+1)); \n",
    "xLogg[:,[0]] = x0; \n",
    "duLogg=np.empty((1,Nsim));\n",
    "for t in range(Nsim):\n",
    "    du=mpc.mpcController(mpcProblemData,x)\n",
    "    x=Ae@x+Be@du\n",
    "    duLogg[:,[t]]=du; xLogg[:,[t+1]]=x;"
   ]
  },
  {
   "cell_type": "code",
   "execution_count": 15,
   "id": "d43d9a39",
   "metadata": {},
   "outputs": [
    {
     "data": {
      "image/png": "[encoded data removed]",
      "text/plain": [
       "<Figure size 432x288 with 3 Axes>"
      ]
     },
     "metadata": {
      "needs_background": "light"
     },
     "output_type": "display_data"
    }
   ],
   "source": [
    "#plt.step(np.linspace(0,h,Tsim),uLogg[0,:])\n",
    "plt.subplot(311)\n",
    "plt.step(time,xLogg[3,:]); \n",
    "plt.ylabel('Altitude'); plt.ylim((-1,11))\n",
    "plt.subplot(312)\n",
    "plt.step(time,xLogg[1,:]); \n",
    "plt.ylabel('Pitch'); plt.ylim((-0.5,0.5))\n",
    "plt.subplot(313)\n",
    "plt.step(time,xLogg[4,:]); plt.ylabel('Elevator angle'); plt.ylim((-0.3,0.3));"
   ]
  }
 ],
 "metadata": {
  "kernelspec": {
   "display_name": "Python 3.10.6 ('ifaenv')",
   "language": "python",
   "name": "python3"
  },
  "language_info": {
   "codemirror_mode": {
    "name": "ipython",
    "version": 3
   },
   "file_extension": ".py",
   "mimetype": "text/x-python",
   "name": "python",
   "nbconvert_exporter": "python",
   "pygments_lexer": "ipython3",
   "version": "3.10.6"
  },
  "vscode": {
   "interpreter": {
    "hash": "f9a6854bddb8813c35fbb91196eec021dcde5d19a9b1effe14da940c755e62fd"
   }
  }
 },
 "nbformat": 4,
 "nbformat_minor": 5
}
