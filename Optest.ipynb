{
 "cells": [
  {
   "cell_type": "code",
   "execution_count": 2,
   "metadata": {},
   "outputs": [],
   "source": [
    "from math import ceil\n",
    "import numpy as np \n",
    "import cvxpy as cp \n",
    "import random\n",
    "import matplotlib.pyplot as plt"
   ]
  },
  {
   "cell_type": "code",
   "execution_count": 6,
   "metadata": {},
   "outputs": [
    {
     "name": "stdout",
     "output_type": "stream",
     "text": [
      "None\n",
      "[[0.]\n",
      " [0.]\n",
      " [0.]]\n"
     ]
    }
   ],
   "source": [
    "# Set-up DeePC and solve the optimization problem\n",
    "# Define optimizer\n",
    "I = np.eye(3)\n",
    "g = cp.Variable((3,1))\n",
    "x = cp.Variable((3,1))\n",
    "\n",
    "# Define Optimization problem\n",
    "objective = cp.norm(x,2)**2\n",
    "constraints = []\n",
    "problem = cp.Problem(cp.Minimize(objective), constraints)        \n",
    "problem.solve()\n",
    "print(g.value)\n",
    "print(x.value)"
   ]
  }
 ],
 "metadata": {
  "kernelspec": {
   "display_name": "Python 3.10.6 ('ifaenv')",
   "language": "python",
   "name": "python3"
  },
  "language_info": {
   "codemirror_mode": {
    "name": "ipython",
    "version": 3
   },
   "file_extension": ".py",
   "mimetype": "text/x-python",
   "name": "python",
   "nbconvert_exporter": "python",
   "pygments_lexer": "ipython3",
   "version": "3.10.6"
  },
  "orig_nbformat": 4,
  "vscode": {
   "interpreter": {
    "hash": "f9a6854bddb8813c35fbb91196eec021dcde5d19a9b1effe14da940c755e62fd"
   }
  }
 },
 "nbformat": 4,
 "nbformat_minor": 2
}
